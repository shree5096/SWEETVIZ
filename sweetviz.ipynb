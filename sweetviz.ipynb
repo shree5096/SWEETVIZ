{
 "cells": [
  {
   "cell_type": "markdown",
   "metadata": {},
   "source": [
    "## Powerful EDA (Exploratory Data Analysis)"
   ]
  },
  {
   "cell_type": "code",
   "execution_count": 4,
   "metadata": {},
   "outputs": [],
   "source": [
    "import pandas as pd"
   ]
  },
  {
   "cell_type": "code",
   "execution_count": 4,
   "metadata": {},
   "outputs": [
    {
     "name": "stdout",
     "output_type": "stream",
     "text": [
      "Collecting sweetviz\n",
      "  Downloading sweetviz-1.0a4-py3-none-any.whl (322 kB)\n",
      "Collecting tqdm>=4.43.0\n",
      "  Downloading tqdm-4.46.1-py2.py3-none-any.whl (63 kB)\n",
      "Collecting importlib-resources>=1.2.0\n",
      "  Downloading importlib_resources-1.5.0-py2.py3-none-any.whl (21 kB)\n",
      "Requirement already satisfied: matplotlib>=3.1.3 in c:\\users\\user\\appdata\\roaming\\python\\python36\\site-packages (from sweetviz) (3.2.1)\n",
      "Requirement already satisfied: pandas!=1.0.0,!=1.0.1,!=1.0.2,>=0.25.3 in c:\\users\\user\\anaconda3.1\\lib\\site-packages (from sweetviz) (1.0.3)\n",
      "Requirement already satisfied: scipy>=1.3.2 in c:\\users\\user\\appdata\\roaming\\python\\python36\\site-packages (from sweetviz) (1.4.1)\n",
      "Requirement already satisfied: numpy>=1.16.0 in c:\\users\\user\\appdata\\roaming\\python\\python36\\site-packages (from sweetviz) (1.18.4)\n",
      "Collecting jinja2>=2.11.1\n",
      "  Downloading Jinja2-2.11.2-py2.py3-none-any.whl (125 kB)\n",
      "Requirement already satisfied: zipp>=0.4; python_version < \"3.8\" in c:\\users\\user\\anaconda3.1\\lib\\site-packages (from importlib-resources>=1.2.0->sweetviz) (3.1.0)\n",
      "Requirement already satisfied: importlib-metadata; python_version < \"3.8\" in c:\\users\\user\\anaconda3.1\\lib\\site-packages (from importlib-resources>=1.2.0->sweetviz) (1.5.0)\n",
      "Requirement already satisfied: pyparsing!=2.0.4,!=2.1.2,!=2.1.6,>=2.0.1 in c:\\users\\user\\anaconda3.1\\lib\\site-packages (from matplotlib>=3.1.3->sweetviz) (2.2.0)\n",
      "Requirement already satisfied: kiwisolver>=1.0.1 in c:\\users\\user\\appdata\\roaming\\python\\python36\\site-packages (from matplotlib>=3.1.3->sweetviz) (1.2.0)\n",
      "Requirement already satisfied: python-dateutil>=2.1 in c:\\users\\user\\anaconda3.1\\lib\\site-packages (from matplotlib>=3.1.3->sweetviz) (2.6.1)\n",
      "Requirement already satisfied: cycler>=0.10 in c:\\users\\user\\anaconda3.1\\lib\\site-packages (from matplotlib>=3.1.3->sweetviz) (0.10.0)\n",
      "Requirement already satisfied: pytz>=2017.2 in c:\\users\\user\\anaconda3.1\\lib\\site-packages (from pandas!=1.0.0,!=1.0.1,!=1.0.2,>=0.25.3->sweetviz) (2017.3)\n",
      "Requirement already satisfied: MarkupSafe>=0.23 in c:\\users\\user\\anaconda3.1\\lib\\site-packages (from jinja2>=2.11.1->sweetviz) (1.0)\n",
      "Requirement already satisfied: six>=1.5 in c:\\users\\user\\anaconda3.1\\lib\\site-packages (from python-dateutil>=2.1->matplotlib>=3.1.3->sweetviz) (1.11.0)\n",
      "Installing collected packages: tqdm, importlib-resources, jinja2, sweetviz\n",
      "  Attempting uninstall: jinja2\n",
      "    Found existing installation: Jinja2 2.10\n",
      "    Uninstalling Jinja2-2.10:\n",
      "      Successfully uninstalled Jinja2-2.10\n",
      "Successfully installed importlib-resources-1.5.0 jinja2-2.11.2 sweetviz-1.0a4 tqdm-4.46.1\n"
     ]
    }
   ],
   "source": [
    "!pip install sweetviz"
   ]
  },
  {
   "cell_type": "code",
   "execution_count": 5,
   "metadata": {},
   "outputs": [],
   "source": [
    "import sweetviz\n",
    "a=pd.read_csv(\"/Users/user/Desktop/Database/Datasets/Cars.csv\")"
   ]
  },
  {
   "cell_type": "code",
   "execution_count": 6,
   "metadata": {},
   "outputs": [
    {
     "data": {
      "text/html": [
       "<div>\n",
       "<style scoped>\n",
       "    .dataframe tbody tr th:only-of-type {\n",
       "        vertical-align: middle;\n",
       "    }\n",
       "\n",
       "    .dataframe tbody tr th {\n",
       "        vertical-align: top;\n",
       "    }\n",
       "\n",
       "    .dataframe thead th {\n",
       "        text-align: right;\n",
       "    }\n",
       "</style>\n",
       "<table border=\"1\" class=\"dataframe\">\n",
       "  <thead>\n",
       "    <tr style=\"text-align: right;\">\n",
       "      <th></th>\n",
       "      <th>model</th>\n",
       "      <th>mpg</th>\n",
       "      <th>cyl</th>\n",
       "      <th>disp</th>\n",
       "      <th>hp</th>\n",
       "      <th>drat</th>\n",
       "      <th>wt</th>\n",
       "      <th>qsec</th>\n",
       "      <th>vs</th>\n",
       "      <th>am</th>\n",
       "      <th>gear</th>\n",
       "      <th>carb</th>\n",
       "    </tr>\n",
       "  </thead>\n",
       "  <tbody>\n",
       "    <tr>\n",
       "      <th>0</th>\n",
       "      <td>Mazda RX4</td>\n",
       "      <td>21.0</td>\n",
       "      <td>6</td>\n",
       "      <td>160.0</td>\n",
       "      <td>110</td>\n",
       "      <td>3.90</td>\n",
       "      <td>2.620</td>\n",
       "      <td>16.46</td>\n",
       "      <td>0</td>\n",
       "      <td>1</td>\n",
       "      <td>4</td>\n",
       "      <td>4</td>\n",
       "    </tr>\n",
       "    <tr>\n",
       "      <th>1</th>\n",
       "      <td>Mazda RX4 Wag</td>\n",
       "      <td>21.0</td>\n",
       "      <td>6</td>\n",
       "      <td>160.0</td>\n",
       "      <td>110</td>\n",
       "      <td>3.90</td>\n",
       "      <td>2.875</td>\n",
       "      <td>17.02</td>\n",
       "      <td>0</td>\n",
       "      <td>1</td>\n",
       "      <td>4</td>\n",
       "      <td>4</td>\n",
       "    </tr>\n",
       "    <tr>\n",
       "      <th>2</th>\n",
       "      <td>Datsun 710</td>\n",
       "      <td>22.8</td>\n",
       "      <td>4</td>\n",
       "      <td>108.0</td>\n",
       "      <td>93</td>\n",
       "      <td>3.85</td>\n",
       "      <td>2.320</td>\n",
       "      <td>18.61</td>\n",
       "      <td>1</td>\n",
       "      <td>1</td>\n",
       "      <td>4</td>\n",
       "      <td>1</td>\n",
       "    </tr>\n",
       "    <tr>\n",
       "      <th>3</th>\n",
       "      <td>Hornet 4 Drive</td>\n",
       "      <td>21.4</td>\n",
       "      <td>6</td>\n",
       "      <td>258.0</td>\n",
       "      <td>110</td>\n",
       "      <td>3.08</td>\n",
       "      <td>3.215</td>\n",
       "      <td>19.44</td>\n",
       "      <td>1</td>\n",
       "      <td>0</td>\n",
       "      <td>3</td>\n",
       "      <td>1</td>\n",
       "    </tr>\n",
       "    <tr>\n",
       "      <th>4</th>\n",
       "      <td>Hornet Sportabout</td>\n",
       "      <td>18.7</td>\n",
       "      <td>8</td>\n",
       "      <td>360.0</td>\n",
       "      <td>175</td>\n",
       "      <td>3.15</td>\n",
       "      <td>3.440</td>\n",
       "      <td>17.02</td>\n",
       "      <td>0</td>\n",
       "      <td>0</td>\n",
       "      <td>3</td>\n",
       "      <td>2</td>\n",
       "    </tr>\n",
       "  </tbody>\n",
       "</table>\n",
       "</div>"
      ],
      "text/plain": [
       "               model   mpg  cyl   disp   hp  drat     wt   qsec  vs  am  gear  \\\n",
       "0          Mazda RX4  21.0    6  160.0  110  3.90  2.620  16.46   0   1     4   \n",
       "1      Mazda RX4 Wag  21.0    6  160.0  110  3.90  2.875  17.02   0   1     4   \n",
       "2         Datsun 710  22.8    4  108.0   93  3.85  2.320  18.61   1   1     4   \n",
       "3     Hornet 4 Drive  21.4    6  258.0  110  3.08  3.215  19.44   1   0     3   \n",
       "4  Hornet Sportabout  18.7    8  360.0  175  3.15  3.440  17.02   0   0     3   \n",
       "\n",
       "   carb  \n",
       "0     4  \n",
       "1     4  \n",
       "2     1  \n",
       "3     1  \n",
       "4     2  "
      ]
     },
     "execution_count": 6,
     "metadata": {},
     "output_type": "execute_result"
    }
   ],
   "source": [
    "a.head()"
   ]
  },
  {
   "cell_type": "markdown",
   "metadata": {},
   "source": [
    "## Analyzing a single dataframe (and its optional target feature)"
   ]
  },
  {
   "cell_type": "markdown",
   "metadata": {},
   "source": [
    "In sweetviz package there is one module is analyze which is used analyze our dataframe to make report"
   ]
  },
  {
   "cell_type": "code",
   "execution_count": 15,
   "metadata": {},
   "outputs": [
    {
     "name": "stderr",
     "output_type": "stream",
     "text": [
      "\n",
      "\n",
      "                                   |                         | [  0%]   00:00  -> (? left)\u001b[A\u001b[A\n",
      "\n",
      "Summarizing dataframe:             |                         | [  0%]   00:00  -> (? left)\u001b[A\u001b[A\n",
      "\n",
      ":TARGET::                          |█▌                   | [  8%]   00:00  -> (00:00 left)\u001b[A\u001b[A\n",
      "\n",
      ":TARGET::                          |███▏                 | [ 15%]   00:00  -> (00:04 left)\u001b[A\u001b[A\n",
      "\n",
      ":model:                            |███▏                 | [ 15%]   00:00  -> (00:04 left)\u001b[A\u001b[A\n",
      "\n",
      ":mpg:                              |████▊                | [ 23%]   00:00  -> (00:03 left)\u001b[A\u001b[A\n",
      "\n",
      ":mpg:                              |██████▍              | [ 31%]   00:02  -> (00:04 left)\u001b[A\u001b[A\n",
      "\n",
      ":cyl:                              |██████▍              | [ 31%]   00:02  -> (00:04 left)\u001b[A\u001b[A\n",
      "\n",
      ":cyl:                              |████████             | [ 38%]   00:02  -> (00:03 left)\u001b[A\u001b[A\n",
      "\n",
      ":hp:                               |████████             | [ 38%]   00:02  -> (00:03 left)\u001b[A\u001b[A\n",
      "\n",
      ":hp:                               |█████████▋           | [ 46%]   00:03  -> (00:04 left)\u001b[A\u001b[A\n",
      "\n",
      ":drat:                             |█████████▋           | [ 46%]   00:03  -> (00:04 left)\u001b[A\u001b[A\n",
      "\n",
      ":drat:                             |███████████▎         | [ 54%]   00:05  -> (00:05 left)\u001b[A\u001b[A\n",
      "\n",
      ":wt:                               |███████████▎         | [ 54%]   00:05  -> (00:05 left)\u001b[A\u001b[A\n",
      "\n",
      ":wt:                               |████████████▉        | [ 62%]   00:06  -> (00:05 left)\u001b[A\u001b[A\n",
      "\n",
      ":qsec:                             |████████████▉        | [ 62%]   00:06  -> (00:05 left)\u001b[A\u001b[A\n",
      "\n",
      ":qsec:                             |██████████████▌      | [ 69%]   00:07  -> (00:04 left)\u001b[A\u001b[A\n",
      "\n",
      ":vs:                               |██████████████▌      | [ 69%]   00:07  -> (00:04 left)\u001b[A\u001b[A\n",
      "\n",
      ":vs:                               |████████████████▏    | [ 77%]   00:08  -> (00:02 left)\u001b[A\u001b[A\n",
      "\n",
      ":am:                               |████████████████▏    | [ 77%]   00:08  -> (00:02 left)\u001b[A\u001b[A\n",
      "\n",
      ":am:                               |█████████████████▊   | [ 85%]   00:09  -> (00:01 left)\u001b[A\u001b[A\n",
      "\n",
      ":gear:                             |█████████████████▊   | [ 85%]   00:09  -> (00:01 left)\u001b[A\u001b[A\n",
      "\n",
      ":gear:                             |███████████████████▍ | [ 92%]   00:09  -> (00:00 left)\u001b[A\u001b[A\n",
      "\n",
      ":carb:                             |███████████████████▍ | [ 92%]   00:09  -> (00:00 left)\u001b[A\u001b[A\n",
      "\n",
      ":carb:                             |█████████████████████| [100%]   00:10  -> (00:00 left)\u001b[A\u001b[A\n",
      "\n",
      ":FEATURES DONE:                    |█████████████████████| [100%]   00:10  -> (00:00 left)\u001b[A\u001b[A\n",
      "\n",
      "\n",
      "                                   |                         | [  0%]   00:00  -> (? left)\u001b[A\u001b[A\n",
      "\n",
      ":Processing Pairwise Features:     |                         | [  0%]   00:00  -> (? left)\u001b[A\u001b[A\n",
      "\n",
      ":Processing Pairwise Features:     |█████████████████████| [100%]   00:00  -> (00:00 left)\u001b[A\u001b[A\n",
      "\n",
      ":PAIRWISE DONE:                    |█████████████████████| [100%]   00:00  -> (00:00 left)\u001b[A\u001b[A\n"
     ]
    },
    {
     "name": "stdout",
     "output_type": "stream",
     "text": [
      "Creating Associations graph... DONE!\n"
     ]
    }
   ],
   "source": [
    "my_report=sweetviz.analyze([a, \"a\"],target_feat='disp')"
   ]
  },
  {
   "cell_type": "code",
   "execution_count": 16,
   "metadata": {},
   "outputs": [],
   "source": [
    "my_report.show_html('Report1.html')"
   ]
  },
  {
   "cell_type": "code",
   "execution_count": 17,
   "metadata": {},
   "outputs": [
    {
     "data": {
      "text/plain": [
       "array([6, 4, 8], dtype=int64)"
      ]
     },
     "execution_count": 17,
     "metadata": {},
     "output_type": "execute_result"
    }
   ],
   "source": [
    "a['cyl'].unique()"
   ]
  },
  {
   "cell_type": "markdown",
   "metadata": {},
   "source": [
    "## Analyzing a single dataframe (with out target feature)"
   ]
  },
  {
   "cell_type": "code",
   "execution_count": 18,
   "metadata": {},
   "outputs": [
    {
     "name": "stderr",
     "output_type": "stream",
     "text": [
      "\n",
      "\n",
      "                                   |                         | [  0%]   00:00  -> (? left)\u001b[A\u001b[A\n",
      "\n",
      "Summarizing dataframe:             |                         | [  0%]   00:00  -> (? left)\u001b[A\u001b[A\n",
      "\n",
      ":model:                            |███▏                 | [ 15%]   00:00  -> (00:00 left)\u001b[A\u001b[A\n",
      "\n",
      ":mpg:                              |████▊                | [ 23%]   00:00  -> (00:00 left)\u001b[A\u001b[A\n",
      "\n",
      ":mpg:                              |██████▍              | [ 31%]   00:00  -> (00:01 left)\u001b[A\u001b[A\n",
      "\n",
      ":cyl:                              |██████▍              | [ 31%]   00:00  -> (00:01 left)\u001b[A\u001b[A\n",
      "\n",
      ":cyl:                              |████████             | [ 38%]   00:01  -> (00:01 left)\u001b[A\u001b[A\n",
      "\n",
      ":disp:                             |████████             | [ 38%]   00:01  -> (00:01 left)\u001b[A\u001b[A\n",
      "\n",
      ":disp:                             |█████████▋           | [ 46%]   00:02  -> (00:03 left)\u001b[A\u001b[A\n",
      "\n",
      ":hp:                               |█████████▋           | [ 46%]   00:02  -> (00:03 left)\u001b[A\u001b[A\n",
      "\n",
      ":hp:                               |███████████▎         | [ 54%]   00:02  -> (00:03 left)\u001b[A\u001b[A\n",
      "\n",
      ":drat:                             |███████████▎         | [ 54%]   00:02  -> (00:03 left)\u001b[A\u001b[A\n",
      "\n",
      ":drat:                             |████████████▉        | [ 62%]   00:03  -> (00:03 left)\u001b[A\u001b[A\n",
      "\n",
      ":wt:                               |████████████▉        | [ 62%]   00:03  -> (00:03 left)\u001b[A\u001b[A\n",
      "\n",
      ":wt:                               |██████████████▌      | [ 69%]   00:04  -> (00:02 left)\u001b[A\u001b[A\n",
      "\n",
      ":qsec:                             |██████████████▌      | [ 69%]   00:04  -> (00:02 left)\u001b[A\u001b[A\n",
      "\n",
      ":qsec:                             |████████████████▏    | [ 77%]   00:05  -> (00:02 left)\u001b[A\u001b[A\n",
      "\n",
      ":vs:                               |████████████████▏    | [ 77%]   00:05  -> (00:02 left)\u001b[A\u001b[A\n",
      "\n",
      ":vs:                               |█████████████████▊   | [ 85%]   00:05  -> (00:01 left)\u001b[A\u001b[A\n",
      "\n",
      ":am:                               |█████████████████▊   | [ 85%]   00:05  -> (00:01 left)\u001b[A\u001b[A\n",
      "\n",
      ":am:                               |███████████████████▍ | [ 92%]   00:05  -> (00:00 left)\u001b[A\u001b[A\n",
      "\n",
      ":gear:                             |███████████████████▍ | [ 92%]   00:05  -> (00:00 left)\u001b[A\u001b[A\n",
      "\n",
      ":gear:                             |█████████████████████| [100%]   00:06  -> (00:00 left)\u001b[A\u001b[A\n",
      "\n",
      ":carb:                             |█████████████████████| [100%]   00:06  -> (00:00 left)\u001b[A\u001b[A\n",
      "\n",
      ":carb:                             |                     | [  0%]   00:06  -> (00:00 left)\u001b[A\u001b[A\n",
      "\n",
      ":FEATURES DONE:                    |                     | [  0%]   00:06  -> (00:00 left)\u001b[A\u001b[A\n",
      "\n",
      "\n",
      "                                   |                         | [  0%]   00:00  -> (? left)\u001b[A\u001b[A\n",
      "\n",
      ":Processing Pairwise Features:     |                         | [  0%]   00:00  -> (? left)\u001b[A\u001b[A\n",
      "\n",
      ":PAIRWISE DONE:                    |█████████████████████| [100%]   00:00  -> (00:00 left)\u001b[A\u001b[A\n"
     ]
    },
    {
     "name": "stdout",
     "output_type": "stream",
     "text": [
      "Creating Associations graph... DONE!\n"
     ]
    }
   ],
   "source": [
    "my_report=sweetviz.analyze([a, \"a\"])"
   ]
  },
  {
   "cell_type": "code",
   "execution_count": 21,
   "metadata": {},
   "outputs": [],
   "source": [
    "my_report.show_html('a.html')"
   ]
  },
  {
   "cell_type": "code",
   "execution_count": null,
   "metadata": {},
   "outputs": [],
   "source": []
  }
 ],
 "metadata": {
  "kernelspec": {
   "display_name": "Python 3",
   "language": "python",
   "name": "python3"
  },
  "language_info": {
   "codemirror_mode": {
    "name": "ipython",
    "version": 3
   },
   "file_extension": ".py",
   "mimetype": "text/x-python",
   "name": "python",
   "nbconvert_exporter": "python",
   "pygments_lexer": "ipython3",
   "version": "3.6.4"
  }
 },
 "nbformat": 4,
 "nbformat_minor": 2
}
